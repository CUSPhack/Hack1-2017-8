{
 "cells": [
  {
   "cell_type": "code",
   "execution_count": 1,
   "metadata": {},
   "outputs": [],
   "source": [
    "import json\n",
    "import pandas as pd\n",
    "from IPython.display import display, Javascript"
   ]
  },
  {
   "cell_type": "code",
   "execution_count": 12,
   "metadata": {},
   "outputs": [
    {
     "data": {
      "text/html": [
       "<script src=\"http://d3js.org/d3.v3.min.js\" charset=\"utf-8\"></script>\n",
       "<script src=\"https://d3js.org/d3-color.v1.min.js\"></script>\n",
       "<script src=\"https://d3js.org/d3-interpolate.v1.min.js\"></script>\n",
       "<script src=\"https://d3js.org/d3-scale-chromatic.v1.min.js\"></script>"
      ],
      "text/plain": [
       "<IPython.core.display.HTML object>"
      ]
     },
     "metadata": {},
     "output_type": "display_data"
    }
   ],
   "source": [
    "%%html\n",
    "<script src=\"http://d3js.org/d3.v3.min.js\" charset=\"utf-8\"></script>\n",
    "<script src=\"https://d3js.org/d3-color.v1.min.js\"></script>\n",
    "<script src=\"https://d3js.org/d3-interpolate.v1.min.js\"></script>\n",
    "<script src=\"https://d3js.org/d3-scale-chromatic.v1.min.js\"></script>"
   ]
  },
  {
   "cell_type": "code",
   "execution_count": 47,
   "metadata": {},
   "outputs": [],
   "source": [
    "wdfw = pd.read_csv('harvey_count50.csv')#.drop('Unnamed: 0', axis=1)\n",
    "# vdfw = pd.concat([\n",
    "#     pd.read_csv('judd_count_senti.csv'),\n",
    "#     pd.read_csv('rose_count_senti.csv')\n",
    "# ])\n",
    "vdfw = pd.read_csv('alyssajudd_sentiment20.csv')#.drop('Unnamed: 0', axis=1)"
   ]
  },
  {
   "cell_type": "code",
   "execution_count": 48,
   "metadata": {},
   "outputs": [
    {
     "data": {
      "text/html": [
       "<div>\n",
       "<style>\n",
       "    .dataframe thead tr:only-child th {\n",
       "        text-align: right;\n",
       "    }\n",
       "\n",
       "    .dataframe thead th {\n",
       "        text-align: left;\n",
       "    }\n",
       "\n",
       "    .dataframe tbody tr th {\n",
       "        vertical-align: top;\n",
       "    }\n",
       "</style>\n",
       "<table border=\"1\" class=\"dataframe\">\n",
       "  <thead>\n",
       "    <tr style=\"text-align: right;\">\n",
       "      <th></th>\n",
       "      <th>word</th>\n",
       "      <th>positive count</th>\n",
       "      <th>negative count</th>\n",
       "      <th>positive sentiment</th>\n",
       "      <th>negative sentiment</th>\n",
       "      <th>total count</th>\n",
       "    </tr>\n",
       "  </thead>\n",
       "  <tbody>\n",
       "    <tr>\n",
       "      <th>0</th>\n",
       "      <td>HarveyWeinstein</td>\n",
       "      <td>2419</td>\n",
       "      <td>12128</td>\n",
       "      <td>0.488535</td>\n",
       "      <td>-0.331467</td>\n",
       "      <td>14547</td>\n",
       "    </tr>\n",
       "    <tr>\n",
       "      <th>1</th>\n",
       "      <td>NyongLupita</td>\n",
       "      <td>39</td>\n",
       "      <td>2238</td>\n",
       "      <td>0.363805</td>\n",
       "      <td>-0.290939</td>\n",
       "      <td>2277</td>\n",
       "    </tr>\n",
       "    <tr>\n",
       "      <th>2</th>\n",
       "      <td>Hollywood</td>\n",
       "      <td>19</td>\n",
       "      <td>1190</td>\n",
       "      <td>0.507044</td>\n",
       "      <td>-0.497840</td>\n",
       "      <td>1209</td>\n",
       "    </tr>\n",
       "    <tr>\n",
       "      <th>3</th>\n",
       "      <td>harassment</td>\n",
       "      <td>411</td>\n",
       "      <td>1004</td>\n",
       "      <td>0.577800</td>\n",
       "      <td>-0.569883</td>\n",
       "      <td>1415</td>\n",
       "    </tr>\n",
       "    <tr>\n",
       "      <th>4</th>\n",
       "      <td>women</td>\n",
       "      <td>26</td>\n",
       "      <td>697</td>\n",
       "      <td>0.432288</td>\n",
       "      <td>-0.491777</td>\n",
       "      <td>723</td>\n",
       "    </tr>\n",
       "  </tbody>\n",
       "</table>\n",
       "</div>"
      ],
      "text/plain": [
       "              word  positive count  negative count  positive sentiment  \\\n",
       "0  HarveyWeinstein            2419           12128            0.488535   \n",
       "1      NyongLupita              39            2238            0.363805   \n",
       "2        Hollywood              19            1190            0.507044   \n",
       "3       harassment             411            1004            0.577800   \n",
       "4            women              26             697            0.432288   \n",
       "\n",
       "   negative sentiment  total count  \n",
       "0           -0.331467        14547  \n",
       "1           -0.290939         2277  \n",
       "2           -0.497840         1209  \n",
       "3           -0.569883         1415  \n",
       "4           -0.491777          723  "
      ]
     },
     "execution_count": 48,
     "metadata": {},
     "output_type": "execute_result"
    }
   ],
   "source": [
    "wdfw.head()"
   ]
  },
  {
   "cell_type": "code",
   "execution_count": 49,
   "metadata": {},
   "outputs": [],
   "source": [
    "wdfw['count'] = wdfw['positive count'] + wdfw['negative count']\n",
    "vdfw['count'] = vdfw['positive count'] + vdfw['negative count']\n",
    "wdfw['sentiment'] = (wdfw['positive count'] * wdfw['positive sentiment'] + wdfw['negative count'] * wdfw['negative sentiment']) / wdfw['count']\n",
    "vdfw['sentiment'] = (vdfw['positive count'] * vdfw['positive sentiment'] + vdfw['negative count'] * vdfw['negative sentiment']) / vdfw['count']"
   ]
  },
  {
   "cell_type": "code",
   "execution_count": 50,
   "metadata": {},
   "outputs": [
    {
     "data": {
      "text/plain": [
       "word                   object\n",
       "positive count          int64\n",
       "negative count          int64\n",
       "positive sentiment    float64\n",
       "negative sentiment    float64\n",
       "total count             int64\n",
       "count                   int64\n",
       "sentiment             float64\n",
       "dtype: object"
      ]
     },
     "execution_count": 50,
     "metadata": {},
     "output_type": "execute_result"
    }
   ],
   "source": [
    "wdfw.dtypes"
   ]
  },
  {
   "cell_type": "code",
   "execution_count": 51,
   "metadata": {},
   "outputs": [],
   "source": [
    "wdfw.word = wdfw.word.str.decode('utf-8', errors='ignore')\n",
    "vdfw.word = vdfw.word.str.decode('utf-8', errors='ignore')"
   ]
  },
  {
   "cell_type": "code",
   "execution_count": 52,
   "metadata": {},
   "outputs": [],
   "source": [
    "wdfwh = wdfw.sort_values('sentiment').head(20)\n",
    "vdfwh = vdfw.sort_values('sentiment').head(20)"
   ]
  },
  {
   "cell_type": "code",
   "execution_count": 57,
   "metadata": {},
   "outputs": [
    {
     "data": {
      "application/javascript": [
       "\n",
       "window.data = {h: [{\"positive sentiment\": 0.0516, \"count\": 92, \"total count\": 92, \"sentiment\": -0.5914369568152175, \"positive count\": 1, \"word\": \"scandal\", \"negative count\": 91, \"negative sentiment\": -0.598503297}, {\"positive sentiment\": 0.4215, \"count\": 46, \"total count\": 46, \"sentiment\": -0.5704413039130436, \"positive count\": 1, \"word\": \"assault\", \"negative count\": 45, \"negative sentiment\": -0.592484444}, {\"positive sentiment\": 0.39385, \"count\": 170, \"total count\": 170, \"sentiment\": -0.5035082352000001, \"positive count\": 18, \"word\": \"Sexual\", \"negative count\": 152, \"negative sentiment\": -0.609774342}, {\"positive sentiment\": 0.21515, \"count\": 49, \"total count\": 49, \"sentiment\": -0.4878020411836735, \"positive count\": 2, \"word\": \"Scandal\", \"negative count\": 47, \"negative sentiment\": -0.517714894}, {\"positive sentiment\": 0.507044444, \"count\": 1209, \"total count\": 1209, \"sentiment\": -0.4820481552224979, \"positive count\": 19, \"word\": \"Hollywood\", \"negative count\": 1190, \"negative sentiment\": -0.49784039}, {\"positive sentiment\": 0.3481, \"count\": 73, \"total count\": 73, \"sentiment\": -0.47451095930136983, \"positive count\": 2, \"word\": \"Michelle\", \"negative count\": 71, \"negative sentiment\": -0.49768309899999996}, {\"positive sentiment\": 0.43228846200000004, \"count\": 723, \"total count\": 723, \"sentiment\": -0.45854619683817427, \"positive count\": 26, \"word\": \"women\", \"negative count\": 697, \"negative sentiment\": -0.491776758}, {\"positive sentiment\": 0.40973999999999994, \"count\": 70, \"total count\": 70, \"sentiment\": -0.4446000714285714, \"positive count\": 8, \"word\": \"RomanPolanski\", \"negative count\": 62, \"negative sentiment\": -0.5548375}, {\"positive sentiment\": 0.4003, \"count\": 168, \"total count\": 168, \"sentiment\": -0.4162494046071429, \"positive count\": 1, \"word\": \"douche\", \"negative count\": 167, \"negative sentiment\": -0.421138922}, {\"positive sentiment\": 0.342866667, \"count\": 59, \"total count\": 59, \"sentiment\": -0.3667440681864407, \"positive count\": 3, \"word\": \"News\", \"negative count\": 56, \"negative sentiment\": -0.404758929}, {\"positive sentiment\": 0.4053, \"count\": 191, \"total count\": 191, \"sentiment\": -0.36131780146596865, \"positive count\": 1, \"word\": \"liberal\", \"negative count\": 190, \"negative sentiment\": -0.365352632}, {\"positive sentiment\": 0.563133333, \"count\": 198, \"total count\": 198, \"sentiment\": -0.3590156564696969, \"positive count\": 3, \"word\": \"No\", \"negative count\": 195, \"negative sentiment\": -0.37320256399999996}, {\"positive sentiment\": 0.6047, \"count\": 185, \"total count\": 185, \"sentiment\": -0.3559459462, \"positive count\": 2, \"word\": \"Sorry\", \"negative count\": 183, \"negative sentiment\": -0.366444809}, {\"positive sentiment\": 0.39675, \"count\": 58, \"total count\": 58, \"sentiment\": -0.32926724179310346, \"positive count\": 6, \"word\": \"Donald\", \"negative count\": 52, \"negative sentiment\": -0.41303846200000005}, {\"positive sentiment\": 0.7080142859999999, \"count\": 32, \"total count\": 32, \"sentiment\": -0.3201156249375, \"positive count\": 7, \"word\": \"Men\", \"negative count\": 25, \"negative sentiment\": -0.607992}, {\"positive sentiment\": 0.350825, \"count\": 34, \"total count\": 34, \"sentiment\": -0.30611470588235296, \"positive count\": 8, \"word\": \"Against\", \"negative count\": 26, \"negative sentiment\": -0.50825}, {\"positive sentiment\": 0.254861905, \"count\": 92, \"total count\": 92, \"sentiment\": -0.3058880434456522, \"positive count\": 21, \"word\": \"BillClinton\", \"negative count\": 71, \"negative sentiment\": -0.471743662}, {\"positive sentiment\": 0.6369, \"count\": 34, \"total count\": 34, \"sentiment\": -0.28338823570588234, \"positive count\": 1, \"word\": \"ass\", \"negative count\": 33, \"negative sentiment\": -0.311275758}, {\"positive sentiment\": 0.3389, \"count\": 56, \"total count\": 56, \"sentiment\": -0.2798107141428572, \"positive count\": 4, \"word\": \"Why\", \"negative count\": 52, \"negative sentiment\": -0.327403846}, {\"positive sentiment\": 0.36380500000000005, \"count\": 2277, \"total count\": 2277, \"sentiment\": -0.27972500416864293, \"positive count\": 39, \"word\": \"NyongLupita\", \"negative count\": 2238, \"negative sentiment\": -0.290939334}],v: [{\"positive sentiment\": 0.3355, \"count\": 3008, \"word\": \"President\", \"sentiment\": -0.794983610173537, \"positive count\": 11, \"negative count\": 2997, \"negative sentiment\": -0.7991328659999999}, {\"positive sentiment\": 0.41098333299999995, \"count\": 5713, \"word\": \"vagina\", \"sentiment\": -0.7888581301253282, \"positive count\": 6, \"negative count\": 5707, \"negative sentiment\": -0.790119572}, {\"positive sentiment\": 0.46603, \"count\": 5712, \"word\": \"Moore\", \"sentiment\": -0.7879669120745799, \"positive count\": 10, \"negative count\": 5702, \"negative sentiment\": -0.790166135}, {\"positive sentiment\": 0.472290909, \"count\": 5715, \"word\": \"Michael\", \"sentiment\": -0.7877636400309713, \"positive count\": 11, \"negative count\": 5704, \"negative sentiment\": -0.7901936190000001}, {\"positive sentiment\": 0.47858648600000003, \"count\": 6032, \"word\": \"Hollywood\", \"sentiment\": -0.7815495688947282, \"positive count\": 37, \"negative count\": 5995, \"negative sentiment\": -0.789326889}, {\"positive sentiment\": 0.402968182, \"count\": 5839, \"word\": \"Madonna\", \"sentiment\": -0.7733166633389279, \"positive count\": 66, \"negative count\": 5773, \"negative sentiment\": -0.7867645759999999}, {\"positive sentiment\": 0.482560714, \"count\": 3209, \"word\": \"Trump\", \"sentiment\": -0.7661908067307572, \"positive count\": 56, \"negative count\": 3153, \"negative sentiment\": -0.788369711}, {\"positive sentiment\": 0.4875, \"count\": 4150, \"word\": \"raped\", \"sentiment\": -0.718572433693494, \"positive count\": 3, \"negative count\": 4147, \"negative sentiment\": -0.719444924}, {\"positive sentiment\": 0.568158025, \"count\": 6648, \"word\": \"Women\", \"sentiment\": -0.7033703777752708, \"positive count\": 351, \"negative count\": 6297, \"negative sentiment\": -0.774246425}, {\"positive sentiment\": 0.21444912300000002, \"count\": 552, \"word\": \"nasty\", \"sentiment\": -0.6362005430869566, \"positive count\": 57, \"negative count\": 495, \"negative sentiment\": -0.734154141}, {\"positive sentiment\": 0.4588, \"count\": 589, \"word\": \"Rice\", \"sentiment\": -0.6111225806451613, \"positive count\": 3, \"negative count\": 586, \"negative sentiment\": -0.6166}, {\"positive sentiment\": 0.5859, \"count\": 597, \"word\": \"Schumer\", \"sentiment\": -0.6074561139447237, \"positive count\": 2, \"negative count\": 595, \"negative sentiment\": -0.611467395}, {\"positive sentiment\": 0.445727273, \"count\": 606, \"word\": \"Alyssa\", \"sentiment\": -0.5962724427095709, \"positive count\": 11, \"negative count\": 595, \"negative sentiment\": -0.615536303}, {\"positive sentiment\": 0.4665, \"count\": 608, \"word\": \"Cher\", \"sentiment\": -0.5937684214638157, \"positive count\": 13, \"negative count\": 595, \"negative sentiment\": -0.61693395}, {\"positive sentiment\": 0.513513869, \"count\": 17843, \"word\": \"Weinstein\", \"sentiment\": -0.5623185766315643, \"positive count\": 1497, \"negative count\": 16346, \"negative sentiment\": -0.660845505}, {\"positive sentiment\": 0.484853561, \"count\": 34886, \"word\": \"AshleyJudd\", \"sentiment\": -0.48779876981465353, \"positive count\": 5566, \"negative count\": 29320, \"negative sentiment\": -0.672443479}, {\"positive sentiment\": 0.46298, \"count\": 1044, \"word\": \"Milano\", \"sentiment\": -0.42085890793295017, \"positive count\": 10, \"negative count\": 1034, \"negative sentiment\": -0.42940667299999996}, {\"positive sentiment\": 0.5597138779999999, \"count\": 1590, \"word\": \"like\", \"sentiment\": -0.30278654121069176, \"positive count\": 245, \"negative count\": 1345, \"negative sentiment\": -0.45989628299999996}, {\"positive sentiment\": 0.536682759, \"count\": 1013, \"word\": \"GwynethPaltrow\", \"sentiment\": -0.16569875928232972, \"positive count\": 58, \"negative count\": 955, \"negative sentiment\": -0.208356485}, {\"positive sentiment\": 0.523765625, \"count\": 1010, \"word\": \"AngelinaJolie\", \"sentiment\": -0.16335709178217825, \"positive count\": 60, \"negative count\": 950, \"negative sentiment\": -0.20675431600000002}], htotal: 5816, vtotal: 106364}\n",
       "console.log(window.data)\n"
      ],
      "text/plain": [
       "<IPython.core.display.Javascript object>"
      ]
     },
     "execution_count": 57,
     "metadata": {},
     "output_type": "execute_result"
    }
   ],
   "source": [
    "Javascript('''\n",
    "window.data = {{h: {},v: {}, htotal: {}, vtotal: {}}}\n",
    "console.log(window.data)\n",
    "'''.format(json.dumps(wdfwh.to_dict(orient='records')), json.dumps(vdfwh.to_dict(orient='records')), wdfwh['count'].sum(), vdfwh['count'].sum()))"
   ]
  },
  {
   "cell_type": "code",
   "execution_count": 58,
   "metadata": {},
   "outputs": [
    {
     "data": {
      "text/html": [
       "<script>\n",
       "console.log(cmap(0.5, [-1, 1], [1,0,0], [0,0,1]))\n",
       "</script>"
      ],
      "text/plain": [
       "<IPython.core.display.HTML object>"
      ]
     },
     "metadata": {},
     "output_type": "display_data"
    }
   ],
   "source": [
    "%%html\n",
    "<script>\n",
    "console.log(cmap(0.5, [-1, 1], [1,0,0], [0,0,1]))\n",
    "</script>"
   ]
  },
  {
   "cell_type": "code",
   "execution_count": 88,
   "metadata": {
    "scrolled": false
   },
   "outputs": [
    {
     "data": {
      "text/html": [
       "<div id='chart'></div>\n",
       "<script>\n",
       "var width = 600, height = 600, margin = 10,\n",
       "    circleRadius = (width / 2) * .8,\n",
       "    digitRadius = (width / 2) * .9;\n",
       "\n",
       "var container = d3.select('#chart');\n",
       "var svg = container.append(\"svg\")\n",
       "    .attr(\"width\", width + 2*margin)\n",
       "    .attr(\"height\", height + 2*margin)\n",
       "    .append(\"g\")\n",
       "    .attr(\"transform\", \"translate(\" + width / 2 + \",\" + height / 2 + \")\");\n",
       "\n",
       "var hw = svg.append(\"g\")\n",
       "var vt = svg.append(\"g\")\n",
       "\n",
       "var width = height = 300,\n",
       "    circleRadius = (width / 2) * .8,\n",
       "    digitRadius = (width / 2) * .9;\n",
       "\n",
       "\n",
       "\n",
       "svg.append(\"circle\")\n",
       "    .attr(\"r\", circleRadius)\n",
       "    .style(\"fill\", \"none\")\n",
       "    .style('linewidth', '3px')\n",
       "    .style(\"stroke\", \"#ddd\");\n",
       "\n",
       "//var cmaph = d3.interpolateRdBu().domain([-1, 1]);//chroma.scale('RdYlBu').domain([-1, 1]);\n",
       "//var cmapv = d3.interpolateRdBu().domain([1, -1]);//chroma.scale('RdYlBu').domain([1, -1]);\n",
       "\n",
       "var cmap = function(v, d, c1, c2){\n",
       "    var percent = (v - d[0]) / (d[1] - d[0]);\n",
       "    var c = c1.map((c, i) => c*(1-percent) + c2[i] * percent);\n",
       "    return 'rgba('+c.join(',')+')';\n",
       "}\n",
       "\n",
       "// Position text at X=radius, Y=0 and rotate around the origin to get final position\n",
       "hw.selectAll(\"text\")\n",
       "    .data(data.h)\n",
       "    .enter()\n",
       "    .append(\"text\")\n",
       "    .attr(\"x\", digitRadius)\n",
       "    .style('font-size', function(d, i){ return (d.count/5000 + 0.5)+'em'; })\n",
       "    .text(function(d, i) { return d.word; })\n",
       "    .attr(\"transform\", function(d, i) { return \"rotate(\" + -((i+0.5) / data.h.length * 180) + \")\"; });\n",
       "\n",
       "vt.selectAll(\"text\")\n",
       "    .data(data.v)\n",
       "    .enter()\n",
       "    .append(\"text\")\n",
       "    .attr(\"x\", digitRadius)\n",
       "    .style('font-size', function(d, i){ return (d.count/50000 + 0.5)+'em'; })\n",
       "    .text(function(d, i) { return d.word; })\n",
       "    .attr(\"transform\", function(d, i) { return \"rotate(\" + ((data.h.length - i-0.5) / data.h.length * 180) + \")\"; });\n",
       "\n",
       "hw.selectAll(\"circle\")\n",
       "    .data(data.h)\n",
       "    .enter()\n",
       "    .append(\"circle\")\n",
       "    .attr(\"cx\", circleRadius)\n",
       "    .attr('r', 5)\n",
       "    .style(\"fill\", function(d){\n",
       "        return cmap(d.sentiment, [-1, 1], [255,0,0], [0,0,255]); \n",
       "    })\n",
       "    .attr(\"transform\", function(d, i) { return \"rotate(\" + -((i+0.5) / data.h.length * 180) + \")\"; });\n",
       "\n",
       "vt.selectAll(\"circle\")\n",
       "    .data(data.v)\n",
       "    .enter()\n",
       "    .append(\"circle\")\n",
       "    .style(\"fill\", function(d){ \n",
       "        return cmap(d.sentiment, [-1, 1], [255,0,0], [0,0,255]); \n",
       "    })\n",
       "    .attr(\"cx\", circleRadius)\n",
       "    .attr('r', 5)\n",
       "    .attr(\"transform\", function(d, i) { return \"rotate(\" + ((data.h.length - i+0.5) / data.h.length * 180) + \")\"; });\n",
       "\n",
       "svg.append('text').attr(\"y\", -digitRadius - 60).text('Weinstein').style('text-anchor', 'middle')\n",
       "svg.append('text').attr(\"y\", digitRadius + 60).text('Victims').style('text-anchor', 'middle')\n",
       "\n",
       "</script>"
      ],
      "text/plain": [
       "<IPython.core.display.HTML object>"
      ]
     },
     "metadata": {},
     "output_type": "display_data"
    }
   ],
   "source": [
    "%%html\n",
    "<div id='chart'></div>\n",
    "<script>\n",
    "var width = 600, height = 600, margin = 10,\n",
    "    circleRadius = (width / 2) * .8,\n",
    "    digitRadius = (width / 2) * .9;\n",
    "\n",
    "var container = d3.select('#chart');\n",
    "var svg = container.append(\"svg\")\n",
    "    .attr(\"width\", width + 2*margin)\n",
    "    .attr(\"height\", height + 2*margin)\n",
    "    .append(\"g\")\n",
    "    .attr(\"transform\", \"translate(\" + width / 2 + \",\" + height / 2 + \")\");\n",
    "\n",
    "var hw = svg.append(\"g\")\n",
    "var vt = svg.append(\"g\")\n",
    "\n",
    "var width = height = 300,\n",
    "    circleRadius = (width / 2) * .8,\n",
    "    digitRadius = (width / 2) * .9;\n",
    "\n",
    "\n",
    "\n",
    "svg.append(\"circle\")\n",
    "    .attr(\"r\", circleRadius)\n",
    "    .style(\"fill\", \"none\")\n",
    "    .style('linewidth', '3px')\n",
    "    .style(\"stroke\", \"#ddd\");\n",
    "\n",
    "//var cmaph = d3.interpolateRdBu().domain([-1, 1]);//chroma.scale('RdYlBu').domain([-1, 1]);\n",
    "//var cmapv = d3.interpolateRdBu().domain([1, -1]);//chroma.scale('RdYlBu').domain([1, -1]);\n",
    "\n",
    "var cmap = function(v, d, c1, c2){\n",
    "    var percent = (v - d[0]) / (d[1] - d[0]);\n",
    "    var c = c1.map((c, i) => c*(1-percent) + c2[i] * percent);\n",
    "    return 'rgba('+c.join(',')+')';\n",
    "}\n",
    "\n",
    "// Position text at X=radius, Y=0 and rotate around the origin to get final position\n",
    "hw.selectAll(\"text\")\n",
    "    .data(data.h)\n",
    "    .enter()\n",
    "    .append(\"text\")\n",
    "    .attr(\"x\", digitRadius)\n",
    "    .style('font-size', function(d, i){ return (d.count/5000 + 0.5)+'em'; })\n",
    "    .text(function(d, i) { return d.word; })\n",
    "    .attr(\"transform\", function(d, i) { return \"rotate(\" + -((i+0.5) / data.h.length * 180) + \")\"; });\n",
    "\n",
    "vt.selectAll(\"text\")\n",
    "    .data(data.v)\n",
    "    .enter()\n",
    "    .append(\"text\")\n",
    "    .attr(\"x\", digitRadius)\n",
    "    .style('font-size', function(d, i){ return (d.count/50000 + 0.5)+'em'; })\n",
    "    .text(function(d, i) { return d.word; })\n",
    "    .attr(\"transform\", function(d, i) { return \"rotate(\" + ((data.h.length - i-0.5) / data.h.length * 180) + \")\"; });\n",
    "\n",
    "hw.selectAll(\"circle\")\n",
    "    .data(data.h)\n",
    "    .enter()\n",
    "    .append(\"circle\")\n",
    "    .attr(\"cx\", circleRadius)\n",
    "    .attr('r', 5)\n",
    "    .style(\"fill\", function(d){\n",
    "        return cmap(d.sentiment, [-1, 1], [255,0,0], [0,0,255]); \n",
    "    })\n",
    "    .attr(\"transform\", function(d, i) { return \"rotate(\" + -((i+0.5) / data.h.length * 180) + \")\"; });\n",
    "\n",
    "vt.selectAll(\"circle\")\n",
    "    .data(data.v)\n",
    "    .enter()\n",
    "    .append(\"circle\")\n",
    "    .style(\"fill\", function(d){ \n",
    "        return cmap(d.sentiment, [-1, 1], [255,0,0], [0,0,255]); \n",
    "    })\n",
    "    .attr(\"cx\", circleRadius)\n",
    "    .attr('r', 5)\n",
    "    .attr(\"transform\", function(d, i) { return \"rotate(\" + ((data.h.length - i+0.5) / data.h.length * 180) + \")\"; });\n",
    "\n",
    "svg.append('text').attr(\"y\", -digitRadius - 60).text('Weinstein').style('text-anchor', 'middle')\n",
    "svg.append('text').attr(\"y\", digitRadius + 60).text('Victims').style('text-anchor', 'middle')\n",
    "\n",
    "</script>"
   ]
  },
  {
   "cell_type": "code",
   "execution_count": null,
   "metadata": {},
   "outputs": [],
   "source": []
  },
  {
   "cell_type": "code",
   "execution_count": null,
   "metadata": {},
   "outputs": [],
   "source": []
  },
  {
   "cell_type": "code",
   "execution_count": null,
   "metadata": {},
   "outputs": [],
   "source": []
  }
 ],
 "metadata": {
  "kernelspec": {
   "display_name": "Python 2",
   "language": "python",
   "name": "python2"
  },
  "language_info": {
   "codemirror_mode": {
    "name": "ipython",
    "version": 2
   },
   "file_extension": ".py",
   "mimetype": "text/x-python",
   "name": "python",
   "nbconvert_exporter": "python",
   "pygments_lexer": "ipython2",
   "version": "2.7.13"
  }
 },
 "nbformat": 4,
 "nbformat_minor": 2
}
